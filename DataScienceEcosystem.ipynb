{
 "cells": [
  {
   "cell_type": "markdown",
   "id": "27fde404-6d8b-4333-ac69-cd20078781bc",
   "metadata": {
    "editable": true,
    "slideshow": {
     "slide_type": ""
    },
    "tags": []
   },
   "source": [
    "<h1>Data Science Tools and Ecosystem</h1>"
   ]
  },
  {
   "cell_type": "markdown",
   "id": "408063ed-c635-44f1-ba6f-1fe6f7d777fb",
   "metadata": {},
   "source": [
    "In this notebook, Data Science Tools and Ecosystem are summarized."
   ]
  },
  {
   "cell_type": "markdown",
   "id": "6d972dc6-7bae-4935-9d1c-e3889590d496",
   "metadata": {},
   "source": [
    "<b> Objectives:List popular languages for Data Science</b>\n",
    "<ul style=\"list-style-type:disc;\">\n",
    "     <li>pyhon</li>\n",
    "    <li>java</li>\n",
    "    <li>R</li>\n",
    "    <li>julia</li>\n",
    "    <li>java script</li>\n",
    "</ul>"
   ]
  },
  {
   "cell_type": "markdown",
   "id": "86e8ab1d-0614-4082-91e2-3c0abc713d21",
   "metadata": {},
   "source": [
    "Some of the popular languages that Data Scientists use are:\n",
    "<ol type= \"1\" >\n",
    "  <li>python</li>\n",
    "  <li>R</li>\n",
    "  <li>julia</li>\n",
    "</ol>"
   ]
  },
  {
   "cell_type": "markdown",
   "id": "3d60730e-f68c-49e9-8b11-e7512b296909",
   "metadata": {},
   "source": [
    "Some of the commonly used libraries used by Data Scientists include:\n",
    "<ol type= \"1\" >\n",
    "  <li>numpy</li>\n",
    "  <li>matplotlib</li>\n",
    "  <li>keras</li>\n",
    "</ol>"
   ]
  },
  {
   "cell_type": "markdown",
   "id": "1ace41fe-c81b-4359-81e2-31d601b3675a",
   "metadata": {},
   "source": [
    "Data Science Tools\n",
    "<table width=\"100%\">\n",
    "            <tr>\n",
    "            <td>colab</td>\n",
    "             <td>jupyter</td>\n",
    "             <td>R studio</td>\n",
    "            </tr>\n",
    "    </table>"
   ]
  },
  {
   "attachments": {},
   "cell_type": "markdown",
   "id": "f7f27012-2074-4e13-9d7d-872db73faf10",
   "metadata": {},
   "source": [
    "<h3>Below are a few examples of evaluating arithmetic expressions in Python</h3>"
   ]
  },
  {
   "cell_type": "code",
   "execution_count": 16,
   "id": "37869f7d-9f46-4c9f-b362-28cd2e0d5e38",
   "metadata": {},
   "outputs": [
    {
     "name": "stdout",
     "output_type": "stream",
     "text": [
      "17\n"
     ]
    }
   ],
   "source": [
    "#This a simple arithmetic expression to mutiply then add integers\n",
    "print((3*4)+5)"
   ]
  },
  {
   "cell_type": "code",
   "execution_count": 17,
   "id": "cb287b42-8afd-4d62-a0cb-dd1a70e5e398",
   "metadata": {},
   "outputs": [
    {
     "name": "stdout",
     "output_type": "stream",
     "text": [
      "3.3333333333333335\n"
     ]
    }
   ],
   "source": [
    "# This will convert 200 minutes to hours by diving by 60\n",
    "print(200/60)"
   ]
  },
  {
   "cell_type": "markdown",
   "id": "793defff-f62c-41bd-81c2-00eba02e0f07",
   "metadata": {},
   "source": [
    "<h2>Author</h2>\n",
    "Srijan rai"
   ]
  },
  {
   "cell_type": "code",
   "execution_count": null,
   "id": "62636cf8-c8a2-4fce-b858-ccf99b22ccf3",
   "metadata": {},
   "outputs": [],
   "source": []
  }
 ],
 "metadata": {
  "kernelspec": {
   "display_name": "Python 3 (ipykernel)",
   "language": "python",
   "name": "python3"
  },
  "language_info": {
   "codemirror_mode": {
    "name": "ipython",
    "version": 3
   },
   "file_extension": ".py",
   "mimetype": "text/x-python",
   "name": "python",
   "nbconvert_exporter": "python",
   "pygments_lexer": "ipython3",
   "version": "3.11.5"
  }
 },
 "nbformat": 4,
 "nbformat_minor": 5
}
